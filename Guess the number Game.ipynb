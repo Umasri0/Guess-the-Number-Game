{
 "cells": [
  {
   "cell_type": "code",
   "execution_count": 3,
   "id": "0b1f9351",
   "metadata": {},
   "outputs": [
    {
     "name": "stdout",
     "output_type": "stream",
     "text": [
      "I am thinking of a number between 1 and 30.\n",
      "take a guess.\n",
      "29\n",
      "your guess is too high.\n",
      "take a guess.\n",
      "12\n",
      "you guess is too low.\n",
      "take a guess.\n",
      "10\n",
      "you guess is too low.\n",
      "take a guess.\n",
      "20\n",
      "your guess is too high.\n",
      "Nope. The number i was thinking of was 19\n"
     ]
    }
   ],
   "source": [
    "#Guess the number game\n",
    "import random\n",
    "secretnumber = random.randint(1,30)\n",
    "print('I am thinking of a number between 1 and 30.')\n",
    "\n",
    "#Ask the player to guess 5 times\n",
    "for guessestaken in range (1,5):\n",
    "    print('take a guess.')\n",
    "    guess = int(input())\n",
    "    \n",
    "    if guess < secretnumber:\n",
    "        print('you guess is too low.')\n",
    "    elif guess > secretnumber:\n",
    "        print('your guess is too high.')\n",
    "    else:\n",
    "        break\n",
    "if guess == secretnumber:\n",
    "    print('Good job! you guessed my number in' + str(guessestaken) + 'guessess!')\n",
    "else:\n",
    "    print('Nope. The number i was thinking of was ' + str(secretnumber))\n"
   ]
  },
  {
   "cell_type": "code",
   "execution_count": null,
   "id": "fec4bd11",
   "metadata": {},
   "outputs": [],
   "source": []
  }
 ],
 "metadata": {
  "kernelspec": {
   "display_name": "Python 3 (ipykernel)",
   "language": "python",
   "name": "python3"
  },
  "language_info": {
   "codemirror_mode": {
    "name": "ipython",
    "version": 3
   },
   "file_extension": ".py",
   "mimetype": "text/x-python",
   "name": "python",
   "nbconvert_exporter": "python",
   "pygments_lexer": "ipython3",
   "version": "3.9.7"
  }
 },
 "nbformat": 4,
 "nbformat_minor": 5
}
